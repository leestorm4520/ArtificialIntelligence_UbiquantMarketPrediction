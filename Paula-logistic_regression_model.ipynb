{
  "cells": [
    {
      "cell_type": "markdown",
      "source": [
        "As Logistic Regression is mainly used for classification problems, it can't be used to predict exact stock prices.\n",
        "\n",
        "We can instead try to reframe it into a classification problem. Where depending on different chosen attributes each day we classify the stock market price as going up or down (binary classification).\n",
        "\n",
        "We will measure the 10-days moving average, correlation, RSI, and the open and close prices per day of a stock as the attributes to measure stock price fluctuations.\n",
        "\n",
        "We can then take the predictions to try to calculate the returns for investments in buying and selling stocks when they go up or down.\n",
        "\n",
        "Source Reference: https://blog.quantinsti.com/machine-learning-logistic-regression-python/"
      ],
      "metadata": {
        "id": "HVqNyNQzuPXy"
      },
      "id": "HVqNyNQzuPXy"
    },
    {
      "cell_type": "markdown",
      "source": [
        "# Library Import\n"
      ],
      "metadata": {
        "id": "rQxy30tvqBez"
      },
      "id": "rQxy30tvqBez"
    },
    {
      "cell_type": "code",
      "source": [
        "!pip install talib-binary"
      ],
      "metadata": {
        "colab": {
          "base_uri": "https://localhost:8080/"
        },
        "id": "8dwV-JdDtwyH",
        "outputId": "48cc2be7-676b-4d39-d1da-12b3e63167d6"
      },
      "id": "8dwV-JdDtwyH",
      "execution_count": 1,
      "outputs": [
        {
          "output_type": "stream",
          "name": "stdout",
          "text": [
            "Collecting talib-binary\n",
            "  Downloading talib_binary-0.4.19-cp37-cp37m-manylinux1_x86_64.whl (2.4 MB)\n",
            "\u001b[K     |████████████████████████████████| 2.4 MB 5.6 MB/s \n",
            "\u001b[?25hRequirement already satisfied: numpy in /usr/local/lib/python3.7/dist-packages (from talib-binary) (1.21.6)\n",
            "Installing collected packages: talib-binary\n",
            "Successfully installed talib-binary-0.4.19\n"
          ]
        }
      ]
    },
    {
      "cell_type": "code",
      "execution_count": 2,
      "id": "6c2d9f39",
      "metadata": {
        "id": "6c2d9f39"
      },
      "outputs": [],
      "source": [
        "#Necessary Library\n",
        "import pandas as pd\n",
        "import numpy as np\n",
        "import matplotlib.pyplot as plt\n",
        "import os #accessing directory structure\n",
        "import talib as ta\n",
        "\n",
        "#Logistic Regression\n",
        "from sklearn.metrics import accuracy_score  \n",
        "from sklearn.linear_model import LogisticRegression  \n",
        "from sklearn import metrics\n",
        "from sklearn.model_selection import cross_val_score"
      ]
    },
    {
      "cell_type": "code",
      "source": [
        "#Run this if your data is in google drive\n",
        "from google.colab import drive\n",
        "drive.mount('/content/drive')"
      ],
      "metadata": {
        "colab": {
          "base_uri": "https://localhost:8080/"
        },
        "id": "__Wpvt0ZQaxl",
        "outputId": "d4a1c8b8-16f3-4276-90ee-1d3d2eccb550"
      },
      "id": "__Wpvt0ZQaxl",
      "execution_count": 3,
      "outputs": [
        {
          "output_type": "stream",
          "name": "stdout",
          "text": [
            "Mounted at /content/drive\n"
          ]
        }
      ]
    },
    {
      "cell_type": "markdown",
      "source": [
        "# Data Cleaning and Setup\n"
      ],
      "metadata": {
        "id": "qj-hjQD3qFqC"
      },
      "id": "qj-hjQD3qFqC"
    },
    {
      "cell_type": "code",
      "execution_count": 4,
      "id": "66434b9a",
      "metadata": {
        "id": "66434b9a",
        "cellView": "code"
      },
      "outputs": [],
      "source": [
        "#Load Dataset\n",
        "def loadData(fileLocation):\n",
        "    df = pd.read_csv(fileLocation, delimiter = ',')\n",
        "    df.columns=['Date','Open','High','Low','Close','Volume','OpenInt']\n",
        "    df.drop('OpenInt', axis='columns', inplace=True)\n",
        "    newdf=df[['Date','Open','High','Low','Volume','Close']]\n",
        "    return df"
      ]
    },
    {
      "cell_type": "code",
      "source": [
        "#Open dataset\n",
        "#df=loadData(\"/content/drive/MyDrive/Colab Notebooks/AI_Group/ArtificialIntelligence_UbiquantMarketPrediction/Data/ETFs/aadr.us.txt\")\n",
        "df=loadData(\"Data/ETFs/aadr.us.txt\")\n",
        "print(df.shape)\n",
        "df['Date']=pd.to_datetime(df.Date,format=\"%Y-%m-%d\")\n",
        "df=df.set_index('Date')\n",
        "df.head()"
      ],
      "metadata": {
        "colab": {
          "base_uri": "https://localhost:8080/",
          "height": 255
        },
        "id": "mHYYkgZvo79Q",
        "outputId": "5af3ba8d-c49b-47c2-fac3-5765fe4b08d4"
      },
      "id": "mHYYkgZvo79Q",
      "execution_count": 6,
      "outputs": [
        {
          "output_type": "stream",
          "name": "stdout",
          "text": [
            "(1565, 6)\n"
          ]
        },
        {
          "output_type": "execute_result",
          "data": {
            "text/plain": [
              "              Open    High     Low   Close  Volume\n",
              "Date                                              \n",
              "2010-07-21  24.333  24.333  23.946  23.946   43321\n",
              "2010-07-22  24.644  24.644  24.362  24.487   18031\n",
              "2010-07-23  24.759  24.759  24.314  24.507    8897\n",
              "2010-07-26  24.624  24.624  24.449  24.595   19443\n",
              "2010-07-27  24.477  24.517  24.431  24.517    8456"
            ],
            "text/html": [
              "\n",
              "  <div id=\"df-8e33f82a-099d-4b17-a17c-712e74a41311\">\n",
              "    <div class=\"colab-df-container\">\n",
              "      <div>\n",
              "<style scoped>\n",
              "    .dataframe tbody tr th:only-of-type {\n",
              "        vertical-align: middle;\n",
              "    }\n",
              "\n",
              "    .dataframe tbody tr th {\n",
              "        vertical-align: top;\n",
              "    }\n",
              "\n",
              "    .dataframe thead th {\n",
              "        text-align: right;\n",
              "    }\n",
              "</style>\n",
              "<table border=\"1\" class=\"dataframe\">\n",
              "  <thead>\n",
              "    <tr style=\"text-align: right;\">\n",
              "      <th></th>\n",
              "      <th>Open</th>\n",
              "      <th>High</th>\n",
              "      <th>Low</th>\n",
              "      <th>Close</th>\n",
              "      <th>Volume</th>\n",
              "    </tr>\n",
              "    <tr>\n",
              "      <th>Date</th>\n",
              "      <th></th>\n",
              "      <th></th>\n",
              "      <th></th>\n",
              "      <th></th>\n",
              "      <th></th>\n",
              "    </tr>\n",
              "  </thead>\n",
              "  <tbody>\n",
              "    <tr>\n",
              "      <th>2010-07-21</th>\n",
              "      <td>24.333</td>\n",
              "      <td>24.333</td>\n",
              "      <td>23.946</td>\n",
              "      <td>23.946</td>\n",
              "      <td>43321</td>\n",
              "    </tr>\n",
              "    <tr>\n",
              "      <th>2010-07-22</th>\n",
              "      <td>24.644</td>\n",
              "      <td>24.644</td>\n",
              "      <td>24.362</td>\n",
              "      <td>24.487</td>\n",
              "      <td>18031</td>\n",
              "    </tr>\n",
              "    <tr>\n",
              "      <th>2010-07-23</th>\n",
              "      <td>24.759</td>\n",
              "      <td>24.759</td>\n",
              "      <td>24.314</td>\n",
              "      <td>24.507</td>\n",
              "      <td>8897</td>\n",
              "    </tr>\n",
              "    <tr>\n",
              "      <th>2010-07-26</th>\n",
              "      <td>24.624</td>\n",
              "      <td>24.624</td>\n",
              "      <td>24.449</td>\n",
              "      <td>24.595</td>\n",
              "      <td>19443</td>\n",
              "    </tr>\n",
              "    <tr>\n",
              "      <th>2010-07-27</th>\n",
              "      <td>24.477</td>\n",
              "      <td>24.517</td>\n",
              "      <td>24.431</td>\n",
              "      <td>24.517</td>\n",
              "      <td>8456</td>\n",
              "    </tr>\n",
              "  </tbody>\n",
              "</table>\n",
              "</div>\n",
              "      <button class=\"colab-df-convert\" onclick=\"convertToInteractive('df-8e33f82a-099d-4b17-a17c-712e74a41311')\"\n",
              "              title=\"Convert this dataframe to an interactive table.\"\n",
              "              style=\"display:none;\">\n",
              "        \n",
              "  <svg xmlns=\"http://www.w3.org/2000/svg\" height=\"24px\"viewBox=\"0 0 24 24\"\n",
              "       width=\"24px\">\n",
              "    <path d=\"M0 0h24v24H0V0z\" fill=\"none\"/>\n",
              "    <path d=\"M18.56 5.44l.94 2.06.94-2.06 2.06-.94-2.06-.94-.94-2.06-.94 2.06-2.06.94zm-11 1L8.5 8.5l.94-2.06 2.06-.94-2.06-.94L8.5 2.5l-.94 2.06-2.06.94zm10 10l.94 2.06.94-2.06 2.06-.94-2.06-.94-.94-2.06-.94 2.06-2.06.94z\"/><path d=\"M17.41 7.96l-1.37-1.37c-.4-.4-.92-.59-1.43-.59-.52 0-1.04.2-1.43.59L10.3 9.45l-7.72 7.72c-.78.78-.78 2.05 0 2.83L4 21.41c.39.39.9.59 1.41.59.51 0 1.02-.2 1.41-.59l7.78-7.78 2.81-2.81c.8-.78.8-2.07 0-2.86zM5.41 20L4 18.59l7.72-7.72 1.47 1.35L5.41 20z\"/>\n",
              "  </svg>\n",
              "      </button>\n",
              "      \n",
              "  <style>\n",
              "    .colab-df-container {\n",
              "      display:flex;\n",
              "      flex-wrap:wrap;\n",
              "      gap: 12px;\n",
              "    }\n",
              "\n",
              "    .colab-df-convert {\n",
              "      background-color: #E8F0FE;\n",
              "      border: none;\n",
              "      border-radius: 50%;\n",
              "      cursor: pointer;\n",
              "      display: none;\n",
              "      fill: #1967D2;\n",
              "      height: 32px;\n",
              "      padding: 0 0 0 0;\n",
              "      width: 32px;\n",
              "    }\n",
              "\n",
              "    .colab-df-convert:hover {\n",
              "      background-color: #E2EBFA;\n",
              "      box-shadow: 0px 1px 2px rgba(60, 64, 67, 0.3), 0px 1px 3px 1px rgba(60, 64, 67, 0.15);\n",
              "      fill: #174EA6;\n",
              "    }\n",
              "\n",
              "    [theme=dark] .colab-df-convert {\n",
              "      background-color: #3B4455;\n",
              "      fill: #D2E3FC;\n",
              "    }\n",
              "\n",
              "    [theme=dark] .colab-df-convert:hover {\n",
              "      background-color: #434B5C;\n",
              "      box-shadow: 0px 1px 3px 1px rgba(0, 0, 0, 0.15);\n",
              "      filter: drop-shadow(0px 1px 2px rgba(0, 0, 0, 0.3));\n",
              "      fill: #FFFFFF;\n",
              "    }\n",
              "  </style>\n",
              "\n",
              "      <script>\n",
              "        const buttonEl =\n",
              "          document.querySelector('#df-8e33f82a-099d-4b17-a17c-712e74a41311 button.colab-df-convert');\n",
              "        buttonEl.style.display =\n",
              "          google.colab.kernel.accessAllowed ? 'block' : 'none';\n",
              "\n",
              "        async function convertToInteractive(key) {\n",
              "          const element = document.querySelector('#df-8e33f82a-099d-4b17-a17c-712e74a41311');\n",
              "          const dataTable =\n",
              "            await google.colab.kernel.invokeFunction('convertToInteractive',\n",
              "                                                     [key], {});\n",
              "          if (!dataTable) return;\n",
              "\n",
              "          const docLinkHtml = 'Like what you see? Visit the ' +\n",
              "            '<a target=\"_blank\" href=https://colab.research.google.com/notebooks/data_table.ipynb>data table notebook</a>'\n",
              "            + ' to learn more about interactive tables.';\n",
              "          element.innerHTML = '';\n",
              "          dataTable['output_type'] = 'display_data';\n",
              "          await google.colab.output.renderOutput(dataTable, element);\n",
              "          const docLink = document.createElement('div');\n",
              "          docLink.innerHTML = docLinkHtml;\n",
              "          element.appendChild(docLink);\n",
              "        }\n",
              "      </script>\n",
              "    </div>\n",
              "  </div>\n",
              "  "
            ]
          },
          "metadata": {},
          "execution_count": 6
        }
      ]
    },
    {
      "cell_type": "code",
      "source": [
        "#Calculating attributes, this is our x\n",
        "df['S_10'] = df['Close'].rolling(window=10).mean()\n",
        "df['Corr'] = df['Close'].rolling(window=10).corr(df['S_10'])\n",
        "df['RSI'] = ta.RSI(np.array(df['Close']), timeperiod =10)\n",
        "df['Open-Close'] = df['Open'] - df['Close'].shift(1)\n",
        "df['Open-Open'] = df['Open'] - df['Open'].shift(1)\n",
        "df = df.dropna()\n",
        "x = df.iloc[:,:9]\n",
        "x.head()"
      ],
      "metadata": {
        "colab": {
          "base_uri": "https://localhost:8080/",
          "height": 238
        },
        "id": "kNCwJswhrH4O",
        "outputId": "6094a804-34c7-470f-8ba2-023d13ab783f"
      },
      "id": "kNCwJswhrH4O",
      "execution_count": 7,
      "outputs": [
        {
          "output_type": "execute_result",
          "data": {
            "text/plain": [
              "              Open    High     Low   Close  Volume     S_10      Corr  \\\n",
              "Date                                                                    \n",
              "2010-08-16  24.507  24.507  24.467  24.467    3094  24.8250 -0.513644   \n",
              "2010-08-17  24.789  24.966  24.789  24.966    6704  24.8174 -0.517705   \n",
              "2010-08-18  25.013  25.109  25.013  25.109     587  24.8214 -0.470713   \n",
              "2010-08-19  24.966  24.966  24.966  24.966     513  24.8062 -0.426172   \n",
              "2010-08-20  24.537  24.537  24.517  24.527    1238  24.7663 -0.321608   \n",
              "\n",
              "                  RSI  Open-Close  \n",
              "Date                               \n",
              "2010-08-16  51.249287       0.106  \n",
              "2010-08-17  61.674651       0.322  \n",
              "2010-08-18  64.117971       0.047  \n",
              "2010-08-19  59.876577      -0.143  \n",
              "2010-08-20  48.853342      -0.429  "
            ],
            "text/html": [
              "\n",
              "  <div id=\"df-e165f241-35a2-4263-a42b-5d678d12cfb9\">\n",
              "    <div class=\"colab-df-container\">\n",
              "      <div>\n",
              "<style scoped>\n",
              "    .dataframe tbody tr th:only-of-type {\n",
              "        vertical-align: middle;\n",
              "    }\n",
              "\n",
              "    .dataframe tbody tr th {\n",
              "        vertical-align: top;\n",
              "    }\n",
              "\n",
              "    .dataframe thead th {\n",
              "        text-align: right;\n",
              "    }\n",
              "</style>\n",
              "<table border=\"1\" class=\"dataframe\">\n",
              "  <thead>\n",
              "    <tr style=\"text-align: right;\">\n",
              "      <th></th>\n",
              "      <th>Open</th>\n",
              "      <th>High</th>\n",
              "      <th>Low</th>\n",
              "      <th>Close</th>\n",
              "      <th>Volume</th>\n",
              "      <th>S_10</th>\n",
              "      <th>Corr</th>\n",
              "      <th>RSI</th>\n",
              "      <th>Open-Close</th>\n",
              "    </tr>\n",
              "    <tr>\n",
              "      <th>Date</th>\n",
              "      <th></th>\n",
              "      <th></th>\n",
              "      <th></th>\n",
              "      <th></th>\n",
              "      <th></th>\n",
              "      <th></th>\n",
              "      <th></th>\n",
              "      <th></th>\n",
              "      <th></th>\n",
              "    </tr>\n",
              "  </thead>\n",
              "  <tbody>\n",
              "    <tr>\n",
              "      <th>2010-08-16</th>\n",
              "      <td>24.507</td>\n",
              "      <td>24.507</td>\n",
              "      <td>24.467</td>\n",
              "      <td>24.467</td>\n",
              "      <td>3094</td>\n",
              "      <td>24.8250</td>\n",
              "      <td>-0.513644</td>\n",
              "      <td>51.249287</td>\n",
              "      <td>0.106</td>\n",
              "    </tr>\n",
              "    <tr>\n",
              "      <th>2010-08-17</th>\n",
              "      <td>24.789</td>\n",
              "      <td>24.966</td>\n",
              "      <td>24.789</td>\n",
              "      <td>24.966</td>\n",
              "      <td>6704</td>\n",
              "      <td>24.8174</td>\n",
              "      <td>-0.517705</td>\n",
              "      <td>61.674651</td>\n",
              "      <td>0.322</td>\n",
              "    </tr>\n",
              "    <tr>\n",
              "      <th>2010-08-18</th>\n",
              "      <td>25.013</td>\n",
              "      <td>25.109</td>\n",
              "      <td>25.013</td>\n",
              "      <td>25.109</td>\n",
              "      <td>587</td>\n",
              "      <td>24.8214</td>\n",
              "      <td>-0.470713</td>\n",
              "      <td>64.117971</td>\n",
              "      <td>0.047</td>\n",
              "    </tr>\n",
              "    <tr>\n",
              "      <th>2010-08-19</th>\n",
              "      <td>24.966</td>\n",
              "      <td>24.966</td>\n",
              "      <td>24.966</td>\n",
              "      <td>24.966</td>\n",
              "      <td>513</td>\n",
              "      <td>24.8062</td>\n",
              "      <td>-0.426172</td>\n",
              "      <td>59.876577</td>\n",
              "      <td>-0.143</td>\n",
              "    </tr>\n",
              "    <tr>\n",
              "      <th>2010-08-20</th>\n",
              "      <td>24.537</td>\n",
              "      <td>24.537</td>\n",
              "      <td>24.517</td>\n",
              "      <td>24.527</td>\n",
              "      <td>1238</td>\n",
              "      <td>24.7663</td>\n",
              "      <td>-0.321608</td>\n",
              "      <td>48.853342</td>\n",
              "      <td>-0.429</td>\n",
              "    </tr>\n",
              "  </tbody>\n",
              "</table>\n",
              "</div>\n",
              "      <button class=\"colab-df-convert\" onclick=\"convertToInteractive('df-e165f241-35a2-4263-a42b-5d678d12cfb9')\"\n",
              "              title=\"Convert this dataframe to an interactive table.\"\n",
              "              style=\"display:none;\">\n",
              "        \n",
              "  <svg xmlns=\"http://www.w3.org/2000/svg\" height=\"24px\"viewBox=\"0 0 24 24\"\n",
              "       width=\"24px\">\n",
              "    <path d=\"M0 0h24v24H0V0z\" fill=\"none\"/>\n",
              "    <path d=\"M18.56 5.44l.94 2.06.94-2.06 2.06-.94-2.06-.94-.94-2.06-.94 2.06-2.06.94zm-11 1L8.5 8.5l.94-2.06 2.06-.94-2.06-.94L8.5 2.5l-.94 2.06-2.06.94zm10 10l.94 2.06.94-2.06 2.06-.94-2.06-.94-.94-2.06-.94 2.06-2.06.94z\"/><path d=\"M17.41 7.96l-1.37-1.37c-.4-.4-.92-.59-1.43-.59-.52 0-1.04.2-1.43.59L10.3 9.45l-7.72 7.72c-.78.78-.78 2.05 0 2.83L4 21.41c.39.39.9.59 1.41.59.51 0 1.02-.2 1.41-.59l7.78-7.78 2.81-2.81c.8-.78.8-2.07 0-2.86zM5.41 20L4 18.59l7.72-7.72 1.47 1.35L5.41 20z\"/>\n",
              "  </svg>\n",
              "      </button>\n",
              "      \n",
              "  <style>\n",
              "    .colab-df-container {\n",
              "      display:flex;\n",
              "      flex-wrap:wrap;\n",
              "      gap: 12px;\n",
              "    }\n",
              "\n",
              "    .colab-df-convert {\n",
              "      background-color: #E8F0FE;\n",
              "      border: none;\n",
              "      border-radius: 50%;\n",
              "      cursor: pointer;\n",
              "      display: none;\n",
              "      fill: #1967D2;\n",
              "      height: 32px;\n",
              "      padding: 0 0 0 0;\n",
              "      width: 32px;\n",
              "    }\n",
              "\n",
              "    .colab-df-convert:hover {\n",
              "      background-color: #E2EBFA;\n",
              "      box-shadow: 0px 1px 2px rgba(60, 64, 67, 0.3), 0px 1px 3px 1px rgba(60, 64, 67, 0.15);\n",
              "      fill: #174EA6;\n",
              "    }\n",
              "\n",
              "    [theme=dark] .colab-df-convert {\n",
              "      background-color: #3B4455;\n",
              "      fill: #D2E3FC;\n",
              "    }\n",
              "\n",
              "    [theme=dark] .colab-df-convert:hover {\n",
              "      background-color: #434B5C;\n",
              "      box-shadow: 0px 1px 3px 1px rgba(0, 0, 0, 0.15);\n",
              "      filter: drop-shadow(0px 1px 2px rgba(0, 0, 0, 0.3));\n",
              "      fill: #FFFFFF;\n",
              "    }\n",
              "  </style>\n",
              "\n",
              "      <script>\n",
              "        const buttonEl =\n",
              "          document.querySelector('#df-e165f241-35a2-4263-a42b-5d678d12cfb9 button.colab-df-convert');\n",
              "        buttonEl.style.display =\n",
              "          google.colab.kernel.accessAllowed ? 'block' : 'none';\n",
              "\n",
              "        async function convertToInteractive(key) {\n",
              "          const element = document.querySelector('#df-e165f241-35a2-4263-a42b-5d678d12cfb9');\n",
              "          const dataTable =\n",
              "            await google.colab.kernel.invokeFunction('convertToInteractive',\n",
              "                                                     [key], {});\n",
              "          if (!dataTable) return;\n",
              "\n",
              "          const docLinkHtml = 'Like what you see? Visit the ' +\n",
              "            '<a target=\"_blank\" href=https://colab.research.google.com/notebooks/data_table.ipynb>data table notebook</a>'\n",
              "            + ' to learn more about interactive tables.';\n",
              "          element.innerHTML = '';\n",
              "          dataTable['output_type'] = 'display_data';\n",
              "          await google.colab.output.renderOutput(dataTable, element);\n",
              "          const docLink = document.createElement('div');\n",
              "          docLink.innerHTML = docLinkHtml;\n",
              "          element.appendChild(docLink);\n",
              "        }\n",
              "      </script>\n",
              "    </div>\n",
              "  </div>\n",
              "  "
            ]
          },
          "metadata": {},
          "execution_count": 7
        }
      ]
    },
    {
      "cell_type": "code",
      "source": [
        "#Calculating result value, this is our Y (Stock market going up or down)\n",
        "# -1 = Stock Price going down\n",
        "# 1 = Stock Price going up\n",
        "y = np.where(df['Close'].shift(-1) > df['Close'],1,-1)\n",
        "y[:5]"
      ],
      "metadata": {
        "colab": {
          "base_uri": "https://localhost:8080/"
        },
        "id": "0mEKcUxAwh8W",
        "outputId": "6970696c-f399-42fd-b93c-4bacd512e176"
      },
      "id": "0mEKcUxAwh8W",
      "execution_count": 8,
      "outputs": [
        {
          "output_type": "execute_result",
          "data": {
            "text/plain": [
              "array([ 1,  1, -1, -1,  1])"
            ]
          },
          "metadata": {},
          "execution_count": 8
        }
      ]
    },
    {
      "cell_type": "code",
      "source": [
        "#Data Splitting 70-30 split\n",
        "split = int(0.7*len(df))\n",
        "x_train, x_test, y_train, y_test = x[:split], x[split:], y[:split], y[split:]\n",
        "x_train.shape, x_test.shape, y_train.shape, y_test.shape"
      ],
      "metadata": {
        "colab": {
          "base_uri": "https://localhost:8080/"
        },
        "id": "o1x3ElVMx4Qs",
        "outputId": "d4bada5a-26db-44f2-cebc-9b3cf3949b1c"
      },
      "id": "o1x3ElVMx4Qs",
      "execution_count": 9,
      "outputs": [
        {
          "output_type": "execute_result",
          "data": {
            "text/plain": [
              "((1082, 9), (465, 9), (1082,), (465,))"
            ]
          },
          "metadata": {},
          "execution_count": 9
        }
      ]
    },
    {
      "cell_type": "markdown",
      "source": [
        "# Model"
      ],
      "metadata": {
        "id": "BHBy4QC0qIPG"
      },
      "id": "BHBy4QC0qIPG"
    },
    {
      "cell_type": "code",
      "source": [
        "#Model Creation\n",
        "model = LogisticRegression()\n",
        "model = model.fit(x_train,y_train)"
      ],
      "metadata": {
        "id": "rSMU4VouyMO2"
      },
      "id": "rSMU4VouyMO2",
      "execution_count": 10,
      "outputs": []
    },
    {
      "cell_type": "code",
      "source": [
        "#Prints the calculated probability of stock price going up or down\n",
        "probability = model.predict_proba(x_test)\n",
        "print(probability[0:5]) #probability for first 5 days\n",
        "plt.figure(figsize=(10,10))\n",
        "plt.plot(probability[:,1])\n",
        "plt.title('Predicted Probability of Stock Price going up per day')\n",
        "plt.ylabel('Probability')\n",
        "plt.xlabel('Day')\n",
        "plt.show()"
      ],
      "metadata": {
        "colab": {
          "base_uri": "https://localhost:8080/",
          "height": 708
        },
        "id": "p0vTn04q0cwN",
        "outputId": "2a1b28a5-7e2e-4d7f-c9d2-ee5ade49783f"
      },
      "id": "p0vTn04q0cwN",
      "execution_count": 11,
      "outputs": [
        {
          "output_type": "stream",
          "name": "stdout",
          "text": [
            "[[0.44475786 0.55524214]\n",
            " [0.45150595 0.54849405]\n",
            " [0.52794    0.47206   ]\n",
            " [0.53216546 0.46783454]\n",
            " [0.42397115 0.57602885]]\n"
          ]
        },
        {
          "output_type": "display_data",
          "data": {
            "text/plain": [
              "<Figure size 720x720 with 1 Axes>"
            ],
            "image/png": "[encoded data removed]"
          },
          "metadata": {
            "needs_background": "light"
          }
        }
      ]
    },
    {
      "cell_type": "code",
      "source": [
        "#Predict stock price trend\n",
        "#-1 Down\n",
        "# 1 Up\n",
        "predicted = model.predict(x_test)\n",
        "predicted[0:5]"
      ],
      "metadata": {
        "colab": {
          "base_uri": "https://localhost:8080/"
        },
        "id": "YW7Hgs5U04pP",
        "outputId": "79b7bd91-687b-4711-81ce-75a9be4c401f"
      },
      "id": "YW7Hgs5U04pP",
      "execution_count": 12,
      "outputs": [
        {
          "output_type": "execute_result",
          "data": {
            "text/plain": [
              "array([ 1,  1, -1, -1,  1])"
            ]
          },
          "metadata": {},
          "execution_count": 12
        }
      ]
    },
    {
      "cell_type": "markdown",
      "source": [
        "# Evaluation"
      ],
      "metadata": {
        "id": "_E_ucQm7qKEn"
      },
      "id": "_E_ucQm7qKEn"
    },
    {
      "cell_type": "code",
      "source": [
        "#Accuracy report\n",
        "accuracy = accuracy_score(y_test,predicted)*100  \n",
        "print (\"Model Prediction Accuracy\")  \n",
        "print(accuracy) "
      ],
      "metadata": {
        "colab": {
          "base_uri": "https://localhost:8080/"
        },
        "id": "2h1W-M2Z1XFA",
        "outputId": "d253b5d1-a210-4aa8-c11a-a645472440c0"
      },
      "id": "2h1W-M2Z1XFA",
      "execution_count": 13,
      "outputs": [
        {
          "output_type": "stream",
          "name": "stdout",
          "text": [
            "Model Prediction Accuracy\n",
            "52.04301075268817\n"
          ]
        }
      ]
    },
    {
      "cell_type": "code",
      "source": [
        "print(metrics.classification_report(y_test, predicted))"
      ],
      "metadata": {
        "colab": {
          "base_uri": "https://localhost:8080/"
        },
        "id": "LiK8U2BL1p_8",
        "outputId": "71a2ab35-6e86-4804-9be4-afe43f77f5a9"
      },
      "id": "LiK8U2BL1p_8",
      "execution_count": 14,
      "outputs": [
        {
          "output_type": "stream",
          "name": "stdout",
          "text": [
            "              precision    recall  f1-score   support\n",
            "\n",
            "          -1       0.49      0.80      0.61       214\n",
            "           1       0.62      0.28      0.39       251\n",
            "\n",
            "    accuracy                           0.52       465\n",
            "   macro avg       0.55      0.54      0.50       465\n",
            "weighted avg       0.56      0.52      0.49       465\n",
            "\n"
          ]
        }
      ]
    },
    {
      "cell_type": "code",
      "source": [
        "#Heatmap of predictions\n",
        "import seaborn as sns\n",
        "from sklearn.metrics import confusion_matrix\n",
        "\n",
        "cm = confusion_matrix(y_test, predicted)\n",
        "ax = sns.heatmap(cm/np.sum(cm), annot=True, cmap = 'Blues', fmt='.2%')\n",
        "\n",
        "## Ticket labels - List must be in alphabetical order\n",
        "ax.xaxis.set_ticklabels(['Down','Up'])\n",
        "ax.yaxis.set_ticklabels(['Down','Up'])\n",
        "\n",
        "ax.set_title('Actual vs. Predicted Stock Direction\\n\\n');\n",
        "ax.set_xlabel('\\nPredicted Values')\n",
        "ax.set_ylabel('Actual Values ');\n",
        "plt.show()"
      ],
      "metadata": {
        "colab": {
          "base_uri": "https://localhost:8080/",
          "height": 337
        },
        "id": "U8lo9Nu8tfUX",
        "outputId": "211452fd-33f7-476f-a0f1-7044034dec7b"
      },
      "id": "U8lo9Nu8tfUX",
      "execution_count": 31,
      "outputs": [
        {
          "output_type": "display_data",
          "data": {
            "text/plain": [
              "<Figure size 432x288 with 2 Axes>"
            ],
            "image/png": "[encoded data removed]"
          },
          "metadata": {
            "needs_background": "light"
          }
        }
      ]
    },
    {
      "cell_type": "code",
      "source": [
        "#Using predictions to predict returns\n",
        "df['Predicted_Signal'] = model.predict(x)\n",
        "df['stock_returns'] = np.log(df['Close']/df['Close'].shift(1))\n",
        "Cumulative_stock_returns = np.cumsum(df[split:]['stock_returns'])\n",
        "\n",
        "df['Strategy_returns'] = df['stock_returns']* df['Predicted_Signal'].shift(1)\n",
        "Cumulative_Strategy_returns = np.cumsum(df[split:]['Strategy_returns'])\n",
        "\n",
        "plt.figure(figsize=(10,5))\n",
        "plt.plot(Cumulative_stock_returns, color='r',label = 'Stock Returns')\n",
        "plt.plot(Cumulative_Strategy_returns, color='g', label = 'Strategy Returns')\n",
        "plt.legend()\n",
        "plt.show()"
      ],
      "metadata": {
        "colab": {
          "base_uri": "https://localhost:8080/",
          "height": 320
        },
        "id": "CcyJSBsA1_WA",
        "outputId": "14400d93-6fa8-4e3a-9ab2-ca30b10799b1"
      },
      "id": "CcyJSBsA1_WA",
      "execution_count": 15,
      "outputs": [
        {
          "output_type": "display_data",
          "data": {
            "text/plain": [
              "<Figure size 720x360 with 1 Axes>"
            ],
            "image/png": "[encoded data removed]"
          },
          "metadata": {
            "needs_background": "light"
          }
        }
      ]
    },
    {
      "cell_type": "code",
      "source": [
        "#model evaluation\n",
        "from sklearn.metrics import r2_score, mean_squared_error\n",
        "print(\"R Squared Score: %.3f\"%(r2_score(y_test, predicted)))\n",
        "print(\"Mean Square Error %.3f\"%(mean_squared_error(y_test, predicted)))"
      ],
      "metadata": {
        "colab": {
          "base_uri": "https://localhost:8080/"
        },
        "id": "PiCk8WUbnq8z",
        "outputId": "aa340b82-37bc-493d-b394-21cde7094111"
      },
      "id": "PiCk8WUbnq8z",
      "execution_count": 16,
      "outputs": [
        {
          "output_type": "stream",
          "name": "stdout",
          "text": [
            "R Squared Score: -0.931\n",
            "Mean Square Error 1.918\n"
          ]
        }
      ]
    }
  ],
  "metadata": {
    "colab": {
      "name": "logistic_regression_model.ipynb",
      "provenance": [],
      "collapsed_sections": [],
      "toc_visible": true
    },
    "kernelspec": {
      "display_name": "Python 3 (ipykernel)",
      "language": "python",
      "name": "python3"
    },
    "language_info": {
      "codemirror_mode": {
        "name": "ipython",
        "version": 3
      },
      "file_extension": ".py",
      "mimetype": "text/x-python",
      "name": "python",
      "nbconvert_exporter": "python",
      "pygments_lexer": "ipython3",
      "version": "3.8.8"
    }
  },
  "nbformat": 4,
  "nbformat_minor": 5
}