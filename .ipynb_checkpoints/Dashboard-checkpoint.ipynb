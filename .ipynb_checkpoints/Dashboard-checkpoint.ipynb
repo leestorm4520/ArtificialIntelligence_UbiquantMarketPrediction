{
 "cells": [
  {
   "cell_type": "markdown",
   "metadata": {
    "colab_type": "text",
    "id": "view-in-github"
   },
   "source": [
    "<a href=\"https://colab.research.google.com/github/leestorm4520/ArtificialIntelligence_UbiquantMarketPrediction/blob/main/Dashboard.ipynb\" target=\"_parent\"><img src=\"https://colab.research.google.com/assets/colab-badge.svg\" alt=\"Open In Colab\"/></a>"
   ]
  },
  {
   "cell_type": "markdown",
   "metadata": {
    "id": "GjTJ2UW5rapp"
   },
   "source": [
    "#DASHBOARD CREATION\n",
    "\n",
    "Does not currently have functionality within google colab, dependencies will need to be installed."
   ]
  },
  {
   "cell_type": "code",
   "execution_count": null,
   "metadata": {
    "id": "M8GM_QxyhtXk"
   },
   "outputs": [],
   "source": [
    "# DEPENDENCIES\n",
    "\n",
    "pip3 install dash\n",
    "pip3 install dash-html-components\n",
    "pip3 install dash-core-components"
   ]
  },
  {
   "cell_type": "code",
   "execution_count": null,
   "metadata": {
    "id": "UpYq7JwXgQI7"
   },
   "outputs": [],
   "source": [
    "# IMPORTS\n",
    "\n",
    "import dash\n",
    "import dash_core_components as dcc\n",
    "import dash_html_components as html\n",
    "import pandas as pd\n",
    "import plotly.graph_objs as go\n",
    "from dash.dependencies import Input, Output\n",
    "from keras.models import load_model\n",
    "from sklearn.preprocessing import MinMaxScaler\n",
    "import numpy as np"
   ]
  },
  {
   "cell_type": "markdown",
   "metadata": {
    "id": "CjJHLb6pQviW"
   },
   "source": [
    "This section will be used for noting variables in the code which will be using values from other notebooks.\n",
    "\n",
    "-File location of data"
   ]
  },
  {
   "cell_type": "code",
   "execution_count": 3,
   "metadata": {
    "id": "WoiryPqcR0zK"
   },
   "outputs": [],
   "source": [
    "# VALUES FOR PLACEHOLDER VARIABLES\n",
    "\n",
    "# PLACEHOLDER#, PLCHLDR#, PH#\n",
    "\n",
    "PLACEHOLDER1 = \"AADR-US\"\n",
    "PLACEHOLDER2 = \"\"\n",
    "PLACEHOLDER3 = \"\"\n",
    "PLACEHOLDER4 = \"\""
   ]
  },
  {
   "cell_type": "code",
   "execution_count": null,
   "metadata": {
    "id": "h5wnzs2xs7Wv"
   },
   "outputs": [],
   "source": [
    "# ACTUAL DASHBOARD CODE\n",
    "\n",
    "df = pd.read_csv(fileLocation)\n",
    "\n",
    "app.layout = html.Div([\n",
    "                       \n",
    "    html.H1(\"Stock Price Analysis Dashboard\", style={\"textAlign\": \"center\"}),\n",
    "\n",
    "    dcc.Tabs(id=\"tabs\", children=[\n",
    "        \n",
    "        dcc.Tab(label='AADR-US Stock Data', children=[\n",
    "            \n",
    "            html.Div([\n",
    "                \n",
    "                html.H2(\"Actual closing price\", style={\"textAlign\": \"center\"}),\n",
    "\n",
    "                dcc.Graph(\n",
    "\n",
    "                    id=\"Actual Data\", figure={\n",
    "                        \n",
    "                        \"data\":[go.Scatter(x=train.index, y=valid[\"Close\"], mode='markers')],\n",
    "\n",
    "                        \"layout\":go.Layout(title='scatter plot', xaxis={'title':'Date'}, yaxis={'title':'Closing Rate'})\n",
    "                    }\n",
    "                ),\n",
    "\n",
    "                html.H2(\"LSTM Predicted Closing Price\", style={\"textAlign\": \"center\"}),\n",
    "\n",
    "                dcc.Graph(\n",
    "\n",
    "                    id=\"Predicted Data\",\n",
    "\n",
    "                    figure={\n",
    "\n",
    "                        \"data\":[go.Scatter(x=valid.index, y=valid[\"Predictions\"], mode='markers')],\n",
    "\n",
    "                        \"layout\":go.Layout(title='scatter plot', xaxis={'title':'Date'}, yaxis={'title':'Closing Rate'})\n",
    "                    }\n",
    "                )\n",
    "            ])\n",
    "        ]),\n",
    "\n",
    "        dcc.Tab(label='PLACEHOLDER3 Stock Data', children=[\n",
    "            \n",
    "            html.Div([\n",
    "                \n",
    "                html.H1(\"PLACEHOLDER3 Stocks High vs Lows\", style={'textAlign': 'center'}),\n",
    "\n",
    "                dcc.Dropdown(id='my-dropdown', options=[\n",
    "                    \n",
    "                    {'label': 'PLACEHOLDER1', 'value': 'PLCHLDR1'},\n",
    "                    {'label': 'PLACEHOLDER2', 'value': 'PLCHLDR2'},\n",
    "                    {'label': 'PLACEHOLDER3', 'value': 'PLCHLDR3'},\n",
    "                    {'label': 'PLACEHOLDER4', 'value': 'PLCHLDR4'}\n",
    "                ],\n",
    "                \n",
    "                multi=True, value=['PH3'], style={\n",
    "                    \n",
    "                    \"display\": \"block\",\n",
    "                    \"margin-left\": \"auto\",\n",
    "                    \"margin-right\": \"auto\",\n",
    "                    \"width\": \"60%\"\n",
    "                }),\n",
    "                \n",
    "                dcc.Graph(id='highlow'),\n",
    "                \n",
    "                html.H1(\"PLACEHOLDER3 Stocks High vs Lows\", style={'textAlign': 'center'}),\n",
    "                \n",
    "                dcc.Dropdown(id='my-dropdown2', options=[\n",
    "                    \n",
    "                    {'label': 'PLACEHOLDER1', 'value': 'PLCHLDR1'},\n",
    "                    {'label': 'PLACEHOLDER2', 'value': 'PLCHLDR2'},\n",
    "                    {'label': 'PLACEHOLDER3', 'value': 'PLCHLDR3'},\n",
    "                    {'label': 'PLACEHOLDER4', 'value': 'PLCHLDR4'}\n",
    "                ],\n",
    "                \n",
    "                multi=True, value=['PH3'], style={\n",
    "                    \n",
    "                    \"display\": \"block\",\n",
    "                    \"margin-left\": \"auto\",\n",
    "                    \"margin-right\": \"auto\",\n",
    "                    \"width\": \"60%\"\n",
    "                }),\n",
    "                \n",
    "                dcc.Graph(id='volume')\n",
    "            ],\n",
    "            \n",
    "            className=\"container\"),\n",
    "        ])\n",
    "    ])\n",
    "])\n",
    "\n"
   ]
  }
 ],
 "metadata": {
  "colab": {
   "authorship_tag": "ABX9TyP4oN8ppICScq+MLEufbRyX",
   "collapsed_sections": [],
   "include_colab_link": true,
   "name": "Dashboard.ipynb",
   "provenance": []
  },
  "kernelspec": {
   "display_name": "Python 3 (ipykernel)",
   "language": "python",
   "name": "python3"
  },
  "language_info": {
   "codemirror_mode": {
    "name": "ipython",
    "version": 3
   },
   "file_extension": ".py",
   "mimetype": "text/x-python",
   "name": "python",
   "nbconvert_exporter": "python",
   "pygments_lexer": "ipython3",
   "version": "3.9.12"
  }
 },
 "nbformat": 4,
 "nbformat_minor": 1
}
