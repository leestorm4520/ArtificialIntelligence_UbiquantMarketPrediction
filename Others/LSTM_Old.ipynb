{
  "cells": [
    {
      "cell_type": "code",
      "execution_count": 1,
      "id": "6c2d9f39",
      "metadata": {
        "id": "6c2d9f39"
      },
      "outputs": [],
      "source": [
        "#Necessary Library\n",
        "#David\n",
        "# Edit\n",
        "import pandas as pd\n",
        "import numpy as np\n",
        "import matplotlib.pyplot as plt\n",
        "from keras.models import Sequential \n",
        "from keras.layers import LSTM, Dropout, Dense\n",
        "import tensorflow as tf\n",
        "from tensorflow import keras\n",
        "import os #accessing directory structure"
      ]
    },
    {
      "cell_type": "code",
      "execution_count": 2,
      "id": "66434b9a",
      "metadata": {
        "id": "66434b9a"
      },
      "outputs": [],
      "source": [
        "#Load Dataset\n",
        "def loadData(fileLocation):\n",
        "    df = pd.read_csv(fileLocation, delimiter = ',')\n",
        "    df.columns=['Date','Open','High','Low','Close','Volumn','OpenInt']\n",
        "    df.drop('OpenInt', axis='columns', inplace=True)\n",
        "    newdf=df[['Date','Open','High','Low','Volumn','Close']]\n",
        "    return newdf"
      ]
    },
    {
      "cell_type": "code",
      "execution_count": 3,
      "id": "f86ccfb2",
      "metadata": {
        "id": "f86ccfb2"
      },
      "outputs": [],
      "source": [
        "#Cleaning Up Dataset\n",
        "from sklearn.preprocessing import MinMaxScaler\n",
        "def cleanData(df):\n",
        "    data_value=df.values\n",
        "    scaler=MinMaxScaler(feature_range=(0,1))\n",
        "    data_scaled=scaler.fit_transform(data_value)\n",
        "    data_reframed=seriesToSupervised(data_scaled)\n",
        "    return data_reframed"
      ]
    },
    {
      "cell_type": "code",
      "execution_count": 4,
      "id": "5cc52899",
      "metadata": {
        "id": "5cc52899"
      },
      "outputs": [],
      "source": [
        "def seriesToSupervised(df, nIn=1,nOut=1,dropNan=True):\n",
        "    nVars=1 if type(df) is list else df.shape[1]\n",
        "    df=pd.DataFrame(df)\n",
        "    cols, names=list(),list()\n",
        "    for i in range(nIn, 0, -1):\n",
        "        cols.append(df.shift(-i))\n",
        "        names+=[('var%d(t-%d)' % (j+1,i)) for j in range(nVars)]\n",
        "    for i in range(0, nOut):\n",
        "        cols.append(df.shift(-i))\n",
        "        if(i==0):\n",
        "            names+=[('var%d(t)' % (j+1)) for j in range(nVars)]\n",
        "        else:\n",
        "            names+=[('var%d(t+%d)' % (j+1)) for j in range(nVars)]\n",
        "        data=pd.concat(cols, axis=1)\n",
        "        data.columns=names\n",
        "        if dropNan:\n",
        "            data.dropna(inplace=True)\n",
        "        return data\n"
      ]
    },
    {
      "cell_type": "code",
      "execution_count": 5,
      "id": "8a6f3652",
      "metadata": {
        "id": "8a6f3652"
      },
      "outputs": [],
      "source": [
        "#Split Dataset into Training and Validation Data\n",
        "def splitData(df):\n",
        " \n",
        "    #x_train, x_test_val, y_train, y_test_val=train_test_split(x,y,random_state=50, test_size=0.3)\n",
        "    # x_test, x_val, y_test, y_val= train_test_split(x_test_val, y_test_val, test_size=50)\n",
        "    # print(x_train.shape, y_train.shape)\n",
        "    num=int(df.shape[0]*0.7)\n",
        "    value=df.values\n",
        "    train=value[:num,:]\n",
        "    test=value[num:,:]\n",
        "    \n",
        "    x_train, y_train=train[:,:-1], train[:,-1]\n",
        "    x_test, y_test=test[:,:-1], test[:,-1]\n",
        "    \n",
        "    x_train=x_train.reshape((x_train.shape[0], 1, x_train.shape[1]))\n",
        "    x_test= x_test.reshape((x_test.shape[0], 1, x_test.shape[1]))\n",
        "\n",
        "    print(x_train.shape, x_test.shape)\n",
        "    print(y_train.shape, y_test.shape)\n",
        "    return x_train, y_train, x_test, y_test"
      ]
    },
    {
      "cell_type": "code",
      "execution_count": 6,
      "id": "27e56833",
      "metadata": {
        "id": "27e56833",
        "outputId": "27d9ec1c-ea86-4e56-fa87-55449c54829d"
      },
      "outputs": [
        {
          "data": {
            "text/html": [
              "<div>\n",
              "<style scoped>\n",
              "    .dataframe tbody tr th:only-of-type {\n",
              "        vertical-align: middle;\n",
              "    }\n",
              "\n",
              "    .dataframe tbody tr th {\n",
              "        vertical-align: top;\n",
              "    }\n",
              "\n",
              "    .dataframe thead th {\n",
              "        text-align: right;\n",
              "    }\n",
              "</style>\n",
              "<table border=\"1\" class=\"dataframe\">\n",
              "  <thead>\n",
              "    <tr style=\"text-align: right;\">\n",
              "      <th></th>\n",
              "      <th>Date</th>\n",
              "      <th>Open</th>\n",
              "      <th>High</th>\n",
              "      <th>Low</th>\n",
              "      <th>Volumn</th>\n",
              "      <th>Close</th>\n",
              "    </tr>\n",
              "  </thead>\n",
              "  <tbody>\n",
              "    <tr>\n",
              "      <th>0</th>\n",
              "      <td>2010-07-21</td>\n",
              "      <td>24.333</td>\n",
              "      <td>24.333</td>\n",
              "      <td>23.946</td>\n",
              "      <td>43321</td>\n",
              "      <td>23.946</td>\n",
              "    </tr>\n",
              "    <tr>\n",
              "      <th>1</th>\n",
              "      <td>2010-07-22</td>\n",
              "      <td>24.644</td>\n",
              "      <td>24.644</td>\n",
              "      <td>24.362</td>\n",
              "      <td>18031</td>\n",
              "      <td>24.487</td>\n",
              "    </tr>\n",
              "    <tr>\n",
              "      <th>2</th>\n",
              "      <td>2010-07-23</td>\n",
              "      <td>24.759</td>\n",
              "      <td>24.759</td>\n",
              "      <td>24.314</td>\n",
              "      <td>8897</td>\n",
              "      <td>24.507</td>\n",
              "    </tr>\n",
              "    <tr>\n",
              "      <th>3</th>\n",
              "      <td>2010-07-26</td>\n",
              "      <td>24.624</td>\n",
              "      <td>24.624</td>\n",
              "      <td>24.449</td>\n",
              "      <td>19443</td>\n",
              "      <td>24.595</td>\n",
              "    </tr>\n",
              "    <tr>\n",
              "      <th>4</th>\n",
              "      <td>2010-07-27</td>\n",
              "      <td>24.477</td>\n",
              "      <td>24.517</td>\n",
              "      <td>24.431</td>\n",
              "      <td>8456</td>\n",
              "      <td>24.517</td>\n",
              "    </tr>\n",
              "  </tbody>\n",
              "</table>\n",
              "</div>"
            ],
            "text/plain": [
              "         Date    Open    High     Low  Volumn   Close\n",
              "0  2010-07-21  24.333  24.333  23.946   43321  23.946\n",
              "1  2010-07-22  24.644  24.644  24.362   18031  24.487\n",
              "2  2010-07-23  24.759  24.759  24.314    8897  24.507\n",
              "3  2010-07-26  24.624  24.624  24.449   19443  24.595\n",
              "4  2010-07-27  24.477  24.517  24.431    8456  24.517"
            ]
          },
          "execution_count": 6,
          "metadata": {},
          "output_type": "execute_result"
        }
      ],
      "source": [
        "#Open dataset\n",
        "df=loadData(\"Data/ETFs/aadr.us.txt\")\n",
        "df.head()"
      ]
    },
    {
      "cell_type": "code",
      "execution_count": 7,
      "id": "1acaa80b",
      "metadata": {
        "id": "1acaa80b",
        "outputId": "4e4cce5a-15ee-434d-9d5f-04ca51d1148e"
      },
      "outputs": [
        {
          "data": {
            "text/plain": [
              "[<matplotlib.lines.Line2D at 0x7ff32415e760>]"
            ]
          },
          "execution_count": 7,
          "metadata": {},
          "output_type": "execute_result"
        },
        {
          "data": {
            "image/png": "[encoded data removed]",
            "text/plain": [
              "<Figure size 720x360 with 1 Axes>"
            ]
          },
          "metadata": {
            "needs_background": "light"
          },
          "output_type": "display_data"
        }
      ],
      "source": [
        "df['Date']=pd.to_datetime(df.Date,format=\"%Y-%m-%d\")\n",
        "df=df.set_index('Date')\n",
        "plt.figure(figsize=(10,5))\n",
        "plt.plot(df[\"Close\"], label=\"Close Price History\")"
      ]
    },
    {
      "cell_type": "code",
      "execution_count": 8,
      "id": "c59cd880",
      "metadata": {
        "id": "c59cd880"
      },
      "outputs": [],
      "source": [
        "df=cleanData(df)"
      ]
    },
    {
      "cell_type": "code",
      "execution_count": 9,
      "id": "a92a1fdd",
      "metadata": {
        "id": "a92a1fdd",
        "outputId": "9d43c972-c899-4788-a0a7-6777ad3ffdd0"
      },
      "outputs": [
        {
          "data": {
            "text/html": [
              "<div>\n",
              "<style scoped>\n",
              "    .dataframe tbody tr th:only-of-type {\n",
              "        vertical-align: middle;\n",
              "    }\n",
              "\n",
              "    .dataframe tbody tr th {\n",
              "        vertical-align: top;\n",
              "    }\n",
              "\n",
              "    .dataframe thead th {\n",
              "        text-align: right;\n",
              "    }\n",
              "</style>\n",
              "<table border=\"1\" class=\"dataframe\">\n",
              "  <thead>\n",
              "    <tr style=\"text-align: right;\">\n",
              "      <th></th>\n",
              "      <th>var1(t-1)</th>\n",
              "      <th>var2(t-1)</th>\n",
              "      <th>var3(t-1)</th>\n",
              "      <th>var4(t-1)</th>\n",
              "      <th>var5(t-1)</th>\n",
              "      <th>var1(t)</th>\n",
              "      <th>var2(t)</th>\n",
              "      <th>var3(t)</th>\n",
              "      <th>var4(t)</th>\n",
              "      <th>var5(t)</th>\n",
              "    </tr>\n",
              "  </thead>\n",
              "  <tbody>\n",
              "    <tr>\n",
              "      <th>0</th>\n",
              "      <td>0.020413</td>\n",
              "      <td>0.020072</td>\n",
              "      <td>0.014631</td>\n",
              "      <td>0.169865</td>\n",
              "      <td>0.015688</td>\n",
              "      <td>0.011446</td>\n",
              "      <td>0.011129</td>\n",
              "      <td>0.002335</td>\n",
              "      <td>0.408142</td>\n",
              "      <td>0.000000</td>\n",
              "    </tr>\n",
              "    <tr>\n",
              "      <th>1</th>\n",
              "      <td>0.023729</td>\n",
              "      <td>0.023380</td>\n",
              "      <td>0.013212</td>\n",
              "      <td>0.083807</td>\n",
              "      <td>0.016268</td>\n",
              "      <td>0.020413</td>\n",
              "      <td>0.020072</td>\n",
              "      <td>0.014631</td>\n",
              "      <td>0.169865</td>\n",
              "      <td>0.015688</td>\n",
              "    </tr>\n",
              "    <tr>\n",
              "      <th>2</th>\n",
              "      <td>0.019836</td>\n",
              "      <td>0.019497</td>\n",
              "      <td>0.017202</td>\n",
              "      <td>0.183169</td>\n",
              "      <td>0.018820</td>\n",
              "      <td>0.023729</td>\n",
              "      <td>0.023380</td>\n",
              "      <td>0.013212</td>\n",
              "      <td>0.083807</td>\n",
              "      <td>0.016268</td>\n",
              "    </tr>\n",
              "    <tr>\n",
              "      <th>3</th>\n",
              "      <td>0.015598</td>\n",
              "      <td>0.016420</td>\n",
              "      <td>0.016670</td>\n",
              "      <td>0.079652</td>\n",
              "      <td>0.016558</td>\n",
              "      <td>0.019836</td>\n",
              "      <td>0.019497</td>\n",
              "      <td>0.017202</td>\n",
              "      <td>0.183169</td>\n",
              "      <td>0.018820</td>\n",
              "    </tr>\n",
              "    <tr>\n",
              "      <th>4</th>\n",
              "      <td>0.015598</td>\n",
              "      <td>0.016420</td>\n",
              "      <td>0.014335</td>\n",
              "      <td>0.046779</td>\n",
              "      <td>0.014064</td>\n",
              "      <td>0.015598</td>\n",
              "      <td>0.016420</td>\n",
              "      <td>0.016670</td>\n",
              "      <td>0.079652</td>\n",
              "      <td>0.016558</td>\n",
              "    </tr>\n",
              "  </tbody>\n",
              "</table>\n",
              "</div>"
            ],
            "text/plain": [
              "   var1(t-1)  var2(t-1)  var3(t-1)  var4(t-1)  var5(t-1)   var1(t)   var2(t)  \\\n",
              "0   0.020413   0.020072   0.014631   0.169865   0.015688  0.011446  0.011129   \n",
              "1   0.023729   0.023380   0.013212   0.083807   0.016268  0.020413  0.020072   \n",
              "2   0.019836   0.019497   0.017202   0.183169   0.018820  0.023729  0.023380   \n",
              "3   0.015598   0.016420   0.016670   0.079652   0.016558  0.019836  0.019497   \n",
              "4   0.015598   0.016420   0.014335   0.046779   0.014064  0.015598  0.016420   \n",
              "\n",
              "    var3(t)   var4(t)   var5(t)  \n",
              "0  0.002335  0.408142  0.000000  \n",
              "1  0.014631  0.169865  0.015688  \n",
              "2  0.013212  0.083807  0.016268  \n",
              "3  0.017202  0.183169  0.018820  \n",
              "4  0.016670  0.079652  0.016558  "
            ]
          },
          "execution_count": 9,
          "metadata": {},
          "output_type": "execute_result"
        }
      ],
      "source": [
        "df.head()"
      ]
    },
    {
      "cell_type": "code",
      "execution_count": 10,
      "id": "fec93b5e",
      "metadata": {
        "id": "fec93b5e",
        "outputId": "4dea56a7-8170-4248-a1a0-37774e59852e"
      },
      "outputs": [
        {
          "name": "stdout",
          "output_type": "stream",
          "text": [
            "(1094, 1, 9) (470, 1, 9)\n",
            "(1094,) (470,)\n"
          ]
        }
      ],
      "source": [
        "x_train, y_train, x_test, y_test=splitData(df)"
      ]
    },
    {
      "cell_type": "code",
      "execution_count": 11,
      "id": "91a0d250",
      "metadata": {},
      "outputs": [
        {
          "data": {
            "text/plain": [
              "array([[0.02041287, 0.02007247, 0.01463069, 0.16986536, 0.01568844,\n",
              "        0.0114462 , 0.011129  , 0.002335  , 0.40814231]])"
            ]
          },
          "execution_count": 11,
          "metadata": {},
          "output_type": "execute_result"
        }
      ],
      "source": [
        "x_train[0]"
      ]
    },
    {
      "cell_type": "code",
      "execution_count": 13,
      "id": "08b48598",
      "metadata": {
        "id": "08b48598"
      },
      "outputs": [],
      "source": [
        "#for dirName, _, fileNames in os.walk('Data'):\n",
        " #   for fileName in fileNames:\n",
        "  #      dataset+=os.path.join(dirName,fileName)"
      ]
    },
    {
      "cell_type": "code",
      "execution_count": 14,
      "id": "97222b01",
      "metadata": {
        "id": "97222b01",
        "outputId": "be0e0fcd-9096-4e0c-ad9f-79ba1eee0bbe"
      },
      "outputs": [],
      "source": [
        "#Algorithm\n",
        "#Paula, John, Litepup\n",
        "\n",
        "#LSTM Model\n",
        "def createLSTM():\n",
        "    model=Sequential()\n",
        "    model.add(LSTM(120, input_shape=(x_train.shape[1], x_train.shape[2]), return_sequences=True))\n",
        "    model.add(Dropout(0.2))\n",
        "    model.add(LSTM(100, return_sequences=True))\n",
        "    model.add(Dropout(0.2))\n",
        "    model.add(LSTM(50, return_sequences=True))\n",
        "   # model.add(Dropout(0.2))\n",
        "    #model.add(LSTM(50, return_sequences=True))\n",
        "    model.add(Dense(1))\n",
        "    model.compile(optimizer='adam', loss='mean_squared_error', metrics=['accuracy'] )\n",
        "    return model"
      ]
    },
    {
      "cell_type": "code",
      "execution_count": 15,
      "id": "d7833653",
      "metadata": {},
      "outputs": [
        {
          "name": "stdout",
          "output_type": "stream",
          "text": [
            "Model: \"sequential\"\n",
            "_________________________________________________________________\n",
            " Layer (type)                Output Shape              Param #   \n",
            "=================================================================\n",
            " lstm (LSTM)                 (None, 1, 120)            62400     \n",
            "                                                                 \n",
            " dropout (Dropout)           (None, 1, 120)            0         \n",
            "                                                                 \n",
            " lstm_1 (LSTM)               (None, 1, 100)            88400     \n",
            "                                                                 \n",
            " dropout_1 (Dropout)         (None, 1, 100)            0         \n",
            "                                                                 \n",
            " lstm_2 (LSTM)               (None, 1, 50)             30200     \n",
            "                                                                 \n",
            " dense (Dense)               (None, 1, 1)              51        \n",
            "                                                                 \n",
            "=================================================================\n",
            "Total params: 181,051\n",
            "Trainable params: 181,051\n",
            "Non-trainable params: 0\n",
            "_________________________________________________________________\n"
          ]
        }
      ],
      "source": [
        "modelLSTM=createLSTM()\n",
        "modelLSTM.summary()"
      ]
    },
    {
      "cell_type": "code",
      "execution_count": 16,
      "id": "5a83e2fa",
      "metadata": {},
      "outputs": [
        {
          "name": "stdout",
          "output_type": "stream",
          "text": [
            "Epoch 1/15\n",
            "35/35 [==============================] - 8s 50ms/step - loss: 0.0416 - accuracy: 0.0018 - val_loss: 0.0415 - val_accuracy: 0.0021\n",
            "Epoch 2/15\n",
            "35/35 [==============================] - 0s 9ms/step - loss: 0.0174 - accuracy: 0.0018 - val_loss: 0.0753 - val_accuracy: 0.0000e+00\n",
            "Epoch 3/15\n",
            "35/35 [==============================] - 0s 7ms/step - loss: 0.0167 - accuracy: 0.0018 - val_loss: 0.0922 - val_accuracy: 0.0000e+00\n",
            "Epoch 4/15\n",
            "35/35 [==============================] - 0s 8ms/step - loss: 0.0165 - accuracy: 0.0018 - val_loss: 0.1005 - val_accuracy: 0.0000e+00\n",
            "Epoch 5/15\n",
            "35/35 [==============================] - 0s 8ms/step - loss: 0.0164 - accuracy: 0.0018 - val_loss: 0.1003 - val_accuracy: 0.0000e+00\n",
            "Epoch 6/15\n",
            "35/35 [==============================] - 0s 8ms/step - loss: 0.0163 - accuracy: 0.0018 - val_loss: 0.1192 - val_accuracy: 0.0000e+00\n",
            "Epoch 7/15\n",
            "35/35 [==============================] - 0s 8ms/step - loss: 0.0163 - accuracy: 0.0018 - val_loss: 0.1080 - val_accuracy: 0.0000e+00\n",
            "Epoch 8/15\n",
            "35/35 [==============================] - 0s 8ms/step - loss: 0.0163 - accuracy: 0.0018 - val_loss: 0.1070 - val_accuracy: 0.0000e+00\n",
            "Epoch 9/15\n",
            "35/35 [==============================] - 0s 9ms/step - loss: 0.0163 - accuracy: 0.0018 - val_loss: 0.1184 - val_accuracy: 0.0000e+00\n",
            "Epoch 10/15\n",
            "35/35 [==============================] - 0s 9ms/step - loss: 0.0163 - accuracy: 0.0018 - val_loss: 0.1033 - val_accuracy: 0.0000e+00\n",
            "Epoch 11/15\n",
            "35/35 [==============================] - 0s 8ms/step - loss: 0.0163 - accuracy: 0.0018 - val_loss: 0.1229 - val_accuracy: 0.0000e+00\n",
            "Epoch 12/15\n",
            "35/35 [==============================] - 0s 8ms/step - loss: 0.0163 - accuracy: 0.0018 - val_loss: 0.1237 - val_accuracy: 0.0000e+00\n",
            "Epoch 13/15\n",
            "35/35 [==============================] - 0s 9ms/step - loss: 0.0164 - accuracy: 0.0018 - val_loss: 0.1178 - val_accuracy: 0.0000e+00\n",
            "Epoch 14/15\n",
            "35/35 [==============================] - 0s 8ms/step - loss: 0.0165 - accuracy: 0.0018 - val_loss: 0.1210 - val_accuracy: 0.0000e+00\n",
            "Epoch 15/15\n",
            "35/35 [==============================] - 0s 9ms/step - loss: 0.0163 - accuracy: 0.0018 - val_loss: 0.1172 - val_accuracy: 0.0000e+00\n"
          ]
        },
        {
          "data": {
            "text/plain": [
              "<tensorflow.python.training.tracking.util.CheckpointLoadStatus at 0x7ff3246cc790>"
            ]
          },
          "execution_count": 16,
          "metadata": {},
          "output_type": "execute_result"
        }
      ],
      "source": [
        "cp_filePath='./checkpoints/'\n",
        "cp=keras.callbacks.ModelCheckpoint(filepath=cp_filePath,save_weights_only=True)\n",
        "modelLSTM.fit(x_train, y_train, epochs=15, batch_size=32, validation_data=(x_test, y_test), callbacks=[cp])\n",
        "modelLSTM.load_weights(cp_filePath)"
      ]
    },
    {
      "cell_type": "code",
      "execution_count": 17,
      "id": "9cd6df00",
      "metadata": {},
      "outputs": [
        {
          "name": "stdout",
          "output_type": "stream",
          "text": [
            "15/15 [==============================] - 0s 7ms/step - loss: 0.1172 - accuracy: 0.0000e+00\n"
          ]
        },
        {
          "data": {
            "text/plain": [
              "[0.11718803644180298, 0.0]"
            ]
          },
          "execution_count": 17,
          "metadata": {},
          "output_type": "execute_result"
        }
      ],
      "source": [
        "modelLSTM.evaluate(x_test,y_test)"
      ]
    },
    {
      "cell_type": "code",
      "execution_count": 18,
      "id": "c8984aea",
      "metadata": {},
      "outputs": [],
      "source": [
        "y_predict=modelLSTM.predict(x_test)"
      ]
    },
    {
      "cell_type": "code",
      "execution_count": 19,
      "id": "ca8e2610",
      "metadata": {},
      "outputs": [],
      "source": [
        "y_predict=y_predict.reshape((470,1))"
      ]
    },
    {
      "cell_type": "code",
      "execution_count": 20,
      "id": "585bcae2",
      "metadata": {},
      "outputs": [
        {
          "data": {
            "image/png": "[encoded data removed]",
            "text/plain": [
              "<Figure size 864x360 with 1 Axes>"
            ]
          },
          "metadata": {},
          "output_type": "display_data"
        }
      ],
      "source": [
        "plt.figure(figsize=(12,5), facecolor='lightgrey')\n",
        "ax = plt.axes()\n",
        "ax.set_facecolor('whitesmoke')\n",
        "plt.plot(df.index[-470:], y_test, color='blue',label='Actual')\n",
        "plt.plot(df.index[-470:], y_predict, alpha=0.7, color='red',label='Predict')\n",
        "plt.title('Accuracy between test and predict data')\n",
        "plt.xlabel('Date')\n",
        "plt.ylabel('Price')\n",
        "plt.legend()\n",
        "plt.show()"
      ]
    }
  ],
  "metadata": {
    "colab": {
      "name": "model.ipynb",
      "provenance": []
    },
    "kernelspec": {
      "display_name": "Python 3 (ipykernel)",
      "language": "python",
      "name": "python3"
    },
    "language_info": {
      "codemirror_mode": {
        "name": "ipython",
        "version": 3
      },
      "file_extension": ".py",
      "mimetype": "text/x-python",
      "name": "python",
      "nbconvert_exporter": "python",
      "pygments_lexer": "ipython3",
      "version": "3.8.8"
    }
  },
  "nbformat": 4,
  "nbformat_minor": 5
}
